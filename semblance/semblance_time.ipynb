{
 "cells": [
  {
   "cell_type": "markdown",
   "metadata": {},
   "source": [
    "### Time consuming of semblance\n",
    "\n",
    "The main problem of semblance calculation is thar it very time consuming opeartion. This notebook is aimed to show few approaches to semblance calculation and redusing time."
   ]
  },
  {
   "cell_type": "code",
   "execution_count": 2,
   "metadata": {},
   "outputs": [],
   "source": [
    "import sys\n",
    "\n",
    "import numpy as np\n",
    "import matplotlib.pyplot as plt\n",
    "\n",
    "sys.path.append('..')\n",
    "\n",
    "from seismicpro.batchflow import ImagesBatch, Dataset, V, B, Pipeline, D\n",
    "from seismicpro import FieldIndex, CustomIndex, SeismicDataset, seismic_plot, SeismicBatch"
   ]
  },
  {
   "cell_type": "markdown",
   "metadata": {},
   "source": [
    "### Semblance calculation\n",
    "\n",
    "For semblance calculation we use the following formula:\n",
    "$$S = \\frac{\\sum^{k+N/2}_{k-N/2}(\\sum^M_1 f_{ij})^2}{M \\sum^{k+N/2}_{k-N/2}\\sum^M_1 (f_{ij})^2} \\text{ ,where }$$\n",
    "\n",
    "* k - time sample\n",
    "* N - window size\n",
    "* M - number of traces\n",
    "* f - value of amplitude\n",
    "\n",
    "This secotion will contains few approaches for semblance calculation in order to reduce the time.\n",
    "\n",
    "Frist approach is numba with 3 nested loops. Function ```_calc_semb_hard``` in utils that one can find [here](../seismicpro/src/semblance_utils.py)."
   ]
  },
  {
   "cell_type": "code",
   "execution_count": 13,
   "metadata": {},
   "outputs": [
    {
     "name": "stdout",
     "output_type": "stream",
     "text": [
      "CPU times: user 3.36 s, sys: 35.1 ms, total: 3.39 s\n",
      "Wall time: 3.38 s\n"
     ]
    }
   ],
   "source": [
    "%%time\n",
    "batch = (SeismicDataset(ix_raw, batch_class=SeismicBatch).next_batch(1)\n",
    "         .load(fmt='segy', components='raw', tslice=slice(1500))\n",
    "         .sort_traces(src='raw', dst='raw', sort_by='offset')\n",
    "         .calculate_semblance('raw', 'semblance_hard', [1200, 6000], 30, window=51, method='hard')\n",
    ")"
   ]
  },
  {
   "cell_type": "markdown",
   "metadata": {},
   "source": [
    "Funciton with one numba loop and matrix operations. Function ```_calc_semb_hard_numba_mx```."
   ]
  },
  {
   "cell_type": "code",
   "execution_count": 12,
   "metadata": {},
   "outputs": [
    {
     "name": "stdout",
     "output_type": "stream",
     "text": [
      "CPU times: user 6.78 s, sys: 129 ms, total: 6.91 s\n",
      "Wall time: 6.89 s\n"
     ]
    }
   ],
   "source": [
    "%%time\n",
    "batch = (SeismicDataset(ix_raw, batch_class=SeismicBatch).next_batch(1)\n",
    "         .load(fmt='segy', components='raw', tslice=slice(1500))\n",
    "         .sort_traces(src='raw', dst='raw', sort_by='offset')\n",
    "         .calculate_semblance('raw', 'semblance_numba_matrix', [1200, 6000], 30, window=51, method='numba_matrix')\n",
    ")"
   ]
  },
  {
   "cell_type": "markdown",
   "metadata": {},
   "source": [
    "One loop with pure numpy matrix operations. Function ```_calc_semb_hard_matrix```."
   ]
  },
  {
   "cell_type": "code",
   "execution_count": 11,
   "metadata": {},
   "outputs": [
    {
     "name": "stdout",
     "output_type": "stream",
     "text": [
      "CPU times: user 11.4 s, sys: 845 ms, total: 12.2 s\n",
      "Wall time: 12.2 s\n"
     ]
    }
   ],
   "source": [
    "%%time\n",
    "batch = (SeismicDataset(ix_raw, batch_class=SeismicBatch).next_batch(1)\n",
    "         .load(fmt='segy', components='raw', tslice=slice(1500))\n",
    "         .sort_traces(src='raw', dst='raw', sort_by='offset')\n",
    "         .calculate_semblance('raw', 'semblance_matrix', [1200, 6000], 30, window=51, method='matrix')\n",
    ")"
   ]
  },
  {
   "cell_type": "markdown",
   "metadata": {},
   "source": [
    "To conclude we can say that the fastest method is to use numba with 3 nested loops. "
   ]
  }
 ],
 "metadata": {
  "kernelspec": {
   "display_name": "Python 3",
   "language": "python",
   "name": "python3"
  },
  "language_info": {
   "codemirror_mode": {
    "name": "ipython",
    "version": 3
   },
   "file_extension": ".py",
   "mimetype": "text/x-python",
   "name": "python",
   "nbconvert_exporter": "python",
   "pygments_lexer": "ipython3",
   "version": "3.6.9"
  }
 },
 "nbformat": 4,
 "nbformat_minor": 4
}
