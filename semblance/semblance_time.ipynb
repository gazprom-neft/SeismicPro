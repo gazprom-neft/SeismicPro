{
 "cells": [
  {
   "cell_type": "markdown",
   "metadata": {},
   "source": [
    "### Time consuming of semblance\n",
    "\n",
    "The main problem of semblance calculation is thar it very time consuming opeartion. This notebook is aimed to show few approaches to semblance calculation and redusing time."
   ]
  },
  {
   "cell_type": "code",
   "execution_count": 1,
   "metadata": {},
   "outputs": [],
   "source": [
    "import sys\n",
    "\n",
    "import numpy as np\n",
    "import matplotlib.pyplot as plt\n",
    "\n",
    "sys.path.append('..')\n",
    "\n",
    "from seismicpro.batchflow import ImagesBatch, Dataset, V, B, Pipeline, D\n",
    "from seismicpro import FieldIndex, CustomIndex, SeismicDataset, seismic_plot, SeismicBatch"
   ]
  },
  {
   "cell_type": "code",
   "execution_count": 2,
   "metadata": {},
   "outputs": [],
   "source": [
    "path_raw = '/data/H2_PAL/SEMB/H2_PAL_va_supergather_11.sgy'\n",
    "\n",
    "index_raw = FieldIndex(name='raw', extra_headers=['offset', 'CDP'], path=path_raw)\n",
    "ix_raw = CustomIndex(index_raw, index_name='CDP')"
   ]
  },
  {
   "cell_type": "markdown",
   "metadata": {},
   "source": [
    "### Semblance calculation\n",
    "\n",
    "For semblance calculation we use the following formula:\n",
    "$$S = \\frac{\\sum^{k+N/2}_{k-N/2}(\\sum^M_1 f_{ij})^2}{M \\sum^{k+N/2}_{k-N/2}\\sum^M_1 (f_{ij})^2} \\text{ ,where }$$\n",
    "\n",
    "* k - time sample\n",
    "* N - window size\n",
    "* M - number of traces\n",
    "* f - value of amplitude\n",
    "\n",
    "This secotion will contains few approaches for semblance calculation in order to reduce the time.\n",
    "\n",
    "Frist approach is numba with 3 nested loops. Function ```_calc_semb_hard``` in utils that one can find [here](../seismicpro/src/semblance_utils.py)."
   ]
  },
  {
   "cell_type": "code",
   "execution_count": 3,
   "metadata": {},
   "outputs": [],
   "source": [
    "dset = SeismicDataset(ix_raw, batch_class=SeismicBatch)"
   ]
  },
  {
   "cell_type": "code",
   "execution_count": 4,
   "metadata": {},
   "outputs": [],
   "source": [
    "pipeline = (\n",
    "    dset.p\n",
    "    .load(fmt='segy', components='raw', tslice=slice(1500))\n",
    "    .sort_traces(src='raw', dst='raw', sort_by='offset')\n",
    "    .calculate_semblance('raw', 'semblance_hard', [1200, 6000], \n",
    "                         30, window=51, method='hard')\n",
    ")\n",
    "pipeline.run(1, n_iters=1, shuffle=1980, profile=True);"
   ]
  },
  {
   "cell_type": "code",
   "execution_count": 5,
   "metadata": {},
   "outputs": [
    {
     "data": {
      "text/plain": [
       "4.383702516555786"
      ]
     },
     "execution_count": 5,
     "metadata": {},
     "output_type": "execute_result"
    }
   ],
   "source": [
    "pipeline.elapsed_time"
   ]
  },
  {
   "cell_type": "code",
   "execution_count": 6,
   "metadata": {},
   "outputs": [
    {
     "data": {
      "text/html": [
       "<div>\n",
       "<style scoped>\n",
       "    .dataframe tbody tr th:only-of-type {\n",
       "        vertical-align: middle;\n",
       "    }\n",
       "\n",
       "    .dataframe tbody tr th {\n",
       "        vertical-align: top;\n",
       "    }\n",
       "\n",
       "    .dataframe thead th {\n",
       "        text-align: right;\n",
       "    }\n",
       "</style>\n",
       "<table border=\"1\" class=\"dataframe\">\n",
       "  <thead>\n",
       "    <tr style=\"text-align: right;\">\n",
       "      <th></th>\n",
       "      <th></th>\n",
       "      <th>total_time</th>\n",
       "      <th>pipeline_time</th>\n",
       "      <th>batch_id</th>\n",
       "    </tr>\n",
       "    <tr>\n",
       "      <th>iter</th>\n",
       "      <th>action</th>\n",
       "      <th></th>\n",
       "      <th></th>\n",
       "      <th></th>\n",
       "    </tr>\n",
       "  </thead>\n",
       "  <tbody>\n",
       "    <tr>\n",
       "      <th rowspan=\"3\" valign=\"top\">1</th>\n",
       "      <th>calculate_semblance #2</th>\n",
       "      <td>4.166964</td>\n",
       "      <td>4.152993</td>\n",
       "      <td>1.399373e+14</td>\n",
       "    </tr>\n",
       "    <tr>\n",
       "      <th>load #0</th>\n",
       "      <td>0.170426</td>\n",
       "      <td>0.094868</td>\n",
       "      <td>1.399373e+14</td>\n",
       "    </tr>\n",
       "    <tr>\n",
       "      <th>sort_traces #1</th>\n",
       "      <td>0.021943</td>\n",
       "      <td>0.014503</td>\n",
       "      <td>1.399373e+14</td>\n",
       "    </tr>\n",
       "  </tbody>\n",
       "</table>\n",
       "</div>"
      ],
      "text/plain": [
       "                             total_time  pipeline_time      batch_id\n",
       "iter action                                                         \n",
       "1    calculate_semblance #2    4.166964       4.152993  1.399373e+14\n",
       "     load #0                   0.170426       0.094868  1.399373e+14\n",
       "     sort_traces #1            0.021943       0.014503  1.399373e+14"
      ]
     },
     "execution_count": 6,
     "metadata": {},
     "output_type": "execute_result"
    }
   ],
   "source": [
    "pipeline.show_profile_info(per_iter=True, detailed=False)"
   ]
  },
  {
   "cell_type": "markdown",
   "metadata": {},
   "source": [
    "Funciton with one numba loop and matrix operations. Function ```_calc_semb_hard_numba_mx```."
   ]
  },
  {
   "cell_type": "code",
   "execution_count": 7,
   "metadata": {},
   "outputs": [],
   "source": [
    "pipeline_v2 = (\n",
    "    dset.p\n",
    "    .load(fmt='segy', components='raw', tslice=slice(1500))\n",
    "    .sort_traces(src='raw', dst='raw', sort_by='offset')\n",
    "    .calculate_semblance('raw', 'semblance_numba_matrix', [1200, 6000], \n",
    "                         30, window=51, method='numba_matrix')\n",
    ")\n",
    "pipeline_v2.run(1, n_iters=1, shuffle=1980, profile=True);"
   ]
  },
  {
   "cell_type": "code",
   "execution_count": 8,
   "metadata": {},
   "outputs": [
    {
     "data": {
      "text/plain": [
       "7.747872352600098"
      ]
     },
     "execution_count": 8,
     "metadata": {},
     "output_type": "execute_result"
    }
   ],
   "source": [
    "pipeline_v2.elapsed_time"
   ]
  },
  {
   "cell_type": "code",
   "execution_count": 9,
   "metadata": {},
   "outputs": [
    {
     "data": {
      "text/html": [
       "<div>\n",
       "<style scoped>\n",
       "    .dataframe tbody tr th:only-of-type {\n",
       "        vertical-align: middle;\n",
       "    }\n",
       "\n",
       "    .dataframe tbody tr th {\n",
       "        vertical-align: top;\n",
       "    }\n",
       "\n",
       "    .dataframe thead th {\n",
       "        text-align: right;\n",
       "    }\n",
       "</style>\n",
       "<table border=\"1\" class=\"dataframe\">\n",
       "  <thead>\n",
       "    <tr style=\"text-align: right;\">\n",
       "      <th></th>\n",
       "      <th></th>\n",
       "      <th>total_time</th>\n",
       "      <th>pipeline_time</th>\n",
       "      <th>batch_id</th>\n",
       "    </tr>\n",
       "    <tr>\n",
       "      <th>iter</th>\n",
       "      <th>action</th>\n",
       "      <th></th>\n",
       "      <th></th>\n",
       "      <th></th>\n",
       "    </tr>\n",
       "  </thead>\n",
       "  <tbody>\n",
       "    <tr>\n",
       "      <th rowspan=\"3\" valign=\"top\">1</th>\n",
       "      <th>calculate_semblance #2</th>\n",
       "      <td>7.536926</td>\n",
       "      <td>7.523454</td>\n",
       "      <td>139937292035744</td>\n",
       "    </tr>\n",
       "    <tr>\n",
       "      <th>load #0</th>\n",
       "      <td>0.159981</td>\n",
       "      <td>0.137634</td>\n",
       "      <td>139937292035744</td>\n",
       "    </tr>\n",
       "    <tr>\n",
       "      <th>sort_traces #1</th>\n",
       "      <td>0.024984</td>\n",
       "      <td>0.016741</td>\n",
       "      <td>139937292035744</td>\n",
       "    </tr>\n",
       "  </tbody>\n",
       "</table>\n",
       "</div>"
      ],
      "text/plain": [
       "                             total_time  pipeline_time         batch_id\n",
       "iter action                                                            \n",
       "1    calculate_semblance #2    7.536926       7.523454  139937292035744\n",
       "     load #0                   0.159981       0.137634  139937292035744\n",
       "     sort_traces #1            0.024984       0.016741  139937292035744"
      ]
     },
     "execution_count": 9,
     "metadata": {},
     "output_type": "execute_result"
    }
   ],
   "source": [
    "pipeline_v2.show_profile_info(per_iter=True, detailed=False)"
   ]
  },
  {
   "cell_type": "markdown",
   "metadata": {},
   "source": [
    "One loop with pure numpy matrix operations. Function ```_calc_semb_hard_matrix```."
   ]
  },
  {
   "cell_type": "code",
   "execution_count": 10,
   "metadata": {},
   "outputs": [],
   "source": [
    "pipeline_v3 = (\n",
    "    dset.p\n",
    "    .load(fmt='segy', components='raw', tslice=slice(1500))\n",
    "    .sort_traces(src='raw', dst='raw', sort_by='offset')\n",
    "    .calculate_semblance('raw', 'semblance_matrix', [1200, 6000], \n",
    "                         30, window=51, method='matrix')\n",
    ")\n",
    "pipeline_v3.run(1, n_iters=1, shuffle=1980, profile=True);"
   ]
  },
  {
   "cell_type": "code",
   "execution_count": 13,
   "metadata": {},
   "outputs": [
    {
     "data": {
      "text/plain": [
       "12.361353397369385"
      ]
     },
     "execution_count": 13,
     "metadata": {},
     "output_type": "execute_result"
    }
   ],
   "source": [
    "pipeline_v3.elapsed_time"
   ]
  },
  {
   "cell_type": "code",
   "execution_count": 14,
   "metadata": {},
   "outputs": [
    {
     "data": {
      "text/html": [
       "<div>\n",
       "<style scoped>\n",
       "    .dataframe tbody tr th:only-of-type {\n",
       "        vertical-align: middle;\n",
       "    }\n",
       "\n",
       "    .dataframe tbody tr th {\n",
       "        vertical-align: top;\n",
       "    }\n",
       "\n",
       "    .dataframe thead th {\n",
       "        text-align: right;\n",
       "    }\n",
       "</style>\n",
       "<table border=\"1\" class=\"dataframe\">\n",
       "  <thead>\n",
       "    <tr style=\"text-align: right;\">\n",
       "      <th></th>\n",
       "      <th></th>\n",
       "      <th>total_time</th>\n",
       "      <th>pipeline_time</th>\n",
       "      <th>batch_id</th>\n",
       "    </tr>\n",
       "    <tr>\n",
       "      <th>iter</th>\n",
       "      <th>action</th>\n",
       "      <th></th>\n",
       "      <th></th>\n",
       "      <th></th>\n",
       "    </tr>\n",
       "  </thead>\n",
       "  <tbody>\n",
       "    <tr>\n",
       "      <th rowspan=\"3\" valign=\"top\">1</th>\n",
       "      <th>calculate_semblance #2</th>\n",
       "      <td>12.175185</td>\n",
       "      <td>12.162147</td>\n",
       "      <td>1.399373e+14</td>\n",
       "    </tr>\n",
       "    <tr>\n",
       "      <th>load #0</th>\n",
       "      <td>0.137138</td>\n",
       "      <td>0.114964</td>\n",
       "      <td>1.399373e+14</td>\n",
       "    </tr>\n",
       "    <tr>\n",
       "      <th>sort_traces #1</th>\n",
       "      <td>0.024242</td>\n",
       "      <td>0.015421</td>\n",
       "      <td>1.399373e+14</td>\n",
       "    </tr>\n",
       "  </tbody>\n",
       "</table>\n",
       "</div>"
      ],
      "text/plain": [
       "                             total_time  pipeline_time      batch_id\n",
       "iter action                                                         \n",
       "1    calculate_semblance #2   12.175185      12.162147  1.399373e+14\n",
       "     load #0                   0.137138       0.114964  1.399373e+14\n",
       "     sort_traces #1            0.024242       0.015421  1.399373e+14"
      ]
     },
     "execution_count": 14,
     "metadata": {},
     "output_type": "execute_result"
    }
   ],
   "source": [
    "pipeline_v3.show_profile_info(per_iter=True, detailed=False)"
   ]
  },
  {
   "cell_type": "markdown",
   "metadata": {},
   "source": [
    "To conclude we can say that the fastest method is to use numba with 3 nested loops. "
   ]
  }
 ],
 "metadata": {
  "kernelspec": {
   "display_name": "Python 3",
   "language": "python",
   "name": "python3"
  },
  "language_info": {
   "codemirror_mode": {
    "name": "ipython",
    "version": 3
   },
   "file_extension": ".py",
   "mimetype": "text/x-python",
   "name": "python",
   "nbconvert_exporter": "python",
   "pygments_lexer": "ipython3",
   "version": "3.6.9"
  }
 },
 "nbformat": 4,
 "nbformat_minor": 4
}
