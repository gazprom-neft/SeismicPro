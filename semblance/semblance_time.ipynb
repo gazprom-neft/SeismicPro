{
 "cells": [
  {
   "cell_type": "markdown",
   "metadata": {},
   "source": [
    "### Semblance calculation\n",
    "Example of semblance calculation"
   ]
  },
  {
   "cell_type": "code",
   "execution_count": 1,
   "metadata": {},
   "outputs": [],
   "source": [
    "import sys\n",
    "\n",
    "import numpy as np\n",
    "import matplotlib.pyplot as plt\n",
    "\n",
    "sys.path.append('..')\n",
    "\n",
    "from seismicpro.batchflow import ImagesBatch, Dataset, V, B, Pipeline, D\n",
    "from seismicpro import FieldIndex, CustomIndex, SeismicDataset, seismic_plot, SeismicBatch"
   ]
  },
  {
   "cell_type": "markdown",
   "metadata": {},
   "source": [
    "This daaset contains one field with 1980 traces."
   ]
  },
  {
   "cell_type": "code",
   "execution_count": 2,
   "metadata": {},
   "outputs": [],
   "source": [
    "path_raw = '/data/H2_PAL/SEMB/H2_PAL_va_supergather_11.sgy'\n",
    "\n",
    "index_raw = FieldIndex(name='raw', extra_headers=['offset', 'CDP'], path=path_raw)\n",
    "ix_raw = CustomIndex(index_raw, index_name='CDP')"
   ]
  },
  {
   "cell_type": "code",
   "execution_count": 3,
   "metadata": {},
   "outputs": [],
   "source": [
    "dset = SeismicDataset(ix_raw, batch_class=SeismicBatch)"
   ]
  },
  {
   "cell_type": "code",
   "execution_count": 6,
   "metadata": {},
   "outputs": [
    {
     "data": {
      "application/vnd.jupyter.widget-view+json": {
       "model_id": "962bc0da651246f59161237a7bd53d11",
       "version_major": 2,
       "version_minor": 0
      },
      "text/plain": [
       "HBox(children=(FloatProgress(value=0.0, max=5.0), HTML(value='')))"
      ]
     },
     "metadata": {},
     "output_type": "display_data"
    },
    {
     "name": "stdout",
     "output_type": "stream",
     "text": [
      "\n"
     ]
    }
   ],
   "source": [
    "pipeline = (\n",
    "    dset.p\n",
    "    .load(fmt='segy', components='raw', tslice=slice(3000))\n",
    "    .sort_traces(src='raw', dst='raw', sort_by='offset')\n",
    "    .calculate_semblance(src='raw', dst='semblance_hard', velocity=[1200, 6000], \n",
    "                         step=30, window=51)\n",
    ")\n",
    "pipeline.run(1, n_epochs=5, profile=True, bar='n');"
   ]
  },
  {
   "cell_type": "code",
   "execution_count": 7,
   "metadata": {},
   "outputs": [
    {
     "data": {
      "text/plain": [
       "6.583434820175171"
      ]
     },
     "execution_count": 7,
     "metadata": {},
     "output_type": "execute_result"
    }
   ],
   "source": [
    "pipeline.elapsed_time"
   ]
  },
  {
   "cell_type": "code",
   "execution_count": 8,
   "metadata": {},
   "outputs": [
    {
     "data": {
      "text/html": [
       "<div>\n",
       "<style scoped>\n",
       "    .dataframe tbody tr th:only-of-type {\n",
       "        vertical-align: middle;\n",
       "    }\n",
       "\n",
       "    .dataframe tbody tr th {\n",
       "        vertical-align: top;\n",
       "    }\n",
       "\n",
       "    .dataframe thead th {\n",
       "        text-align: right;\n",
       "    }\n",
       "</style>\n",
       "<table border=\"1\" class=\"dataframe\">\n",
       "  <thead>\n",
       "    <tr style=\"text-align: right;\">\n",
       "      <th></th>\n",
       "      <th></th>\n",
       "      <th>total_time</th>\n",
       "      <th>pipeline_time</th>\n",
       "      <th>batch_id</th>\n",
       "    </tr>\n",
       "    <tr>\n",
       "      <th>iter</th>\n",
       "      <th>action</th>\n",
       "      <th></th>\n",
       "      <th></th>\n",
       "      <th></th>\n",
       "    </tr>\n",
       "  </thead>\n",
       "  <tbody>\n",
       "    <tr>\n",
       "      <th>1</th>\n",
       "      <th>calculate_semblance #2</th>\n",
       "      <td>3.678452</td>\n",
       "      <td>3.673242</td>\n",
       "      <td>1.400623e+14</td>\n",
       "    </tr>\n",
       "    <tr>\n",
       "      <th>2</th>\n",
       "      <th>calculate_semblance #2</th>\n",
       "      <td>0.463226</td>\n",
       "      <td>0.459226</td>\n",
       "      <td>1.400623e+14</td>\n",
       "    </tr>\n",
       "    <tr>\n",
       "      <th>3</th>\n",
       "      <th>calculate_semblance #2</th>\n",
       "      <td>0.477041</td>\n",
       "      <td>0.468926</td>\n",
       "      <td>1.400623e+14</td>\n",
       "    </tr>\n",
       "    <tr>\n",
       "      <th>4</th>\n",
       "      <th>calculate_semblance #2</th>\n",
       "      <td>0.483625</td>\n",
       "      <td>0.479463</td>\n",
       "      <td>1.400620e+14</td>\n",
       "    </tr>\n",
       "    <tr>\n",
       "      <th>5</th>\n",
       "      <th>calculate_semblance #2</th>\n",
       "      <td>0.465975</td>\n",
       "      <td>0.461832</td>\n",
       "      <td>1.400620e+14</td>\n",
       "    </tr>\n",
       "  </tbody>\n",
       "</table>\n",
       "</div>"
      ],
      "text/plain": [
       "                             total_time  pipeline_time      batch_id\n",
       "iter action                                                         \n",
       "1    calculate_semblance #2    3.678452       3.673242  1.400623e+14\n",
       "2    calculate_semblance #2    0.463226       0.459226  1.400623e+14\n",
       "3    calculate_semblance #2    0.477041       0.468926  1.400623e+14\n",
       "4    calculate_semblance #2    0.483625       0.479463  1.400620e+14\n",
       "5    calculate_semblance #2    0.465975       0.461832  1.400620e+14"
      ]
     },
     "execution_count": 8,
     "metadata": {},
     "output_type": "execute_result"
    }
   ],
   "source": [
    "time_df = pipeline.show_profile_info(per_iter=True, detailed=False)\n",
    "time_df.loc[(slice(1, 5), 'calculate_semblance #2'), :]"
   ]
  }
 ],
 "metadata": {
  "kernelspec": {
   "display_name": "Python 3",
   "language": "python",
   "name": "python3"
  },
  "language_info": {
   "codemirror_mode": {
    "name": "ipython",
    "version": 3
   },
   "file_extension": ".py",
   "mimetype": "text/x-python",
   "name": "python",
   "nbconvert_exporter": "python",
   "pygments_lexer": "ipython3",
   "version": "3.6.9"
  }
 },
 "nbformat": 4,
 "nbformat_minor": 4
}
